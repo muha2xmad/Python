{
 "cells": [
  {
   "cell_type": "code",
   "execution_count": 72,
   "metadata": {},
   "outputs": [],
   "source": [
    "# 59a373a01cdecc10846173f40e09948d62e51b96b6c2333a1464dace93654403\n",
    "# 174e83de9fd1e7683780574493d40afb35a40ab10c09fbce05ece7e145f04f8b\n",
    "\n",
    "import pefile\n",
    "import re\n",
    "from capstone import *\n",
    "from capstone.x86 import *\n",
    "\n",
    "pat = b'\\xe8\\xf4\\xfe\\xff\\xff'\n",
    "\n",
    "pe = pefile.PE(r\"\") # Put your file path\n",
    "\n",
    "# Initialize Capstone\n",
    "md = Cs(CS_ARCH_X86, CS_MODE_32)\n",
    "md.skipdata = True\n",
    "md.detail = True"
   ]
  },
  {
   "cell_type": "code",
   "execution_count": 74,
   "metadata": {},
   "outputs": [
    {
     "name": "stdout",
     "output_type": "stream",
     "text": [
      "C2:\u0000146.70.169.164\u0000\n",
      "Port:  2227\n"
     ]
    }
   ],
   "source": [
    "\n",
    "\n",
    "insnts = []\n",
    "text_section = pe.sections[0]\n",
    "text_section_addr = pe.OPTIONAL_HEADER.ImageBase + text_section.VirtualAddress\n",
    "\n",
    "# Disassemble .text section\n",
    "for insnt in md.disasm(text_section.get_data(), text_section_addr):\n",
    "    insnts.append(insnt)\n",
    "    # print(insnt)\n",
    "sd = 0\n",
    "ip_list = []\n",
    "for i in range(len(insnts)):\n",
    "    insn = insnts[i]\n",
    "    # th_inst = insnts[i+2]\n",
    "    if (insn.mnemonic == \"mov\" and  insn.operands[0].type == X86_OP_MEM and\n",
    "        insn.operands[1].type == X86_OP_IMM):\n",
    "        next_insn = insnts[i+1]\n",
    "        if (next_insn.mnemonic == \"mov\" and  next_insn.operands[0].type == X86_OP_MEM and\n",
    "        next_insn.operands[1].type == X86_OP_IMM):\n",
    "            thi_insn = insnts[i+2]\n",
    "            if (thi_insn.mnemonic == \"mov\" and  thi_insn.operands[0].type == X86_OP_MEM and\n",
    "        thi_insn.operands[1].type == X86_OP_IMM):\n",
    "                if insn.operands[1].imm == 0:\n",
    "                # print(insn)\n",
    "                    first_inst = insnts[i]\n",
    "                    # print(first_inst.bytes)\n",
    "                    # print(first_inst.address)\n",
    "                    for j in range (0,16):\n",
    "                        mov_inst = insnts[i+j]\n",
    "                        ip_list.append(chr(mov_inst.operands[1].imm) )\n",
    "\n",
    "    if re.match(pat, insnts[i].bytes):\n",
    "        port_inst = insnts[i-1]\n",
    "        port = port_inst.operands[1].imm\n",
    "\n",
    "\n",
    "print(\"C2:\", end=\"\")                       \n",
    "for i in ip_list:\n",
    "    print(i, end='')\n",
    "\n",
    "print(\"\\nPort: \", port )"
   ]
  },
  {
   "cell_type": "code",
   "execution_count": null,
   "metadata": {},
   "outputs": [],
   "source": []
  }
 ],
 "metadata": {
  "kernelspec": {
   "display_name": "Python 3",
   "language": "python",
   "name": "python3"
  },
  "language_info": {
   "codemirror_mode": {
    "name": "ipython",
    "version": 3
   },
   "file_extension": ".py",
   "mimetype": "text/x-python",
   "name": "python",
   "nbconvert_exporter": "python",
   "pygments_lexer": "ipython3",
   "version": "3.8.10"
  },
  "orig_nbformat": 4
 },
 "nbformat": 4,
 "nbformat_minor": 2
}
