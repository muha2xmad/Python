{
 "cells": [
  {
   "cell_type": "code",
   "execution_count": 1,
   "metadata": {},
   "outputs": [
    {
     "name": "stdout",
     "output_type": "stream",
     "text": [
      "Hash: 992349\n"
     ]
    }
   ],
   "source": [
    "\n",
    "# This scripts shows How the command is received from the C2 to the RAT to do malicious actions\n",
    "\n",
    "import hashlib\n",
    "import struct\n",
    "\n",
    "def smethod_1(string_0):\n",
    "    sha256 = hashlib.sha256()\n",
    "    sha256.update(string_0.encode('utf-8'))\n",
    "    hash_hex = sha256.hexdigest()\n",
    "\n",
    "    # Convert the first 4 bytes (32 bits) of the hash to a uint\n",
    "    hash_value = struct.unpack('<I', bytes.fromhex(hash_hex[:8]))[0]\n",
    "\n",
    "    # Calculate the 6-digit hash by taking modulo 1,000,000\n",
    "    result = hash_value % 1000000\n",
    "\n",
    "    return result\n",
    "\n",
    "input_string = \"command\"\n",
    "hash_value = smethod_1(input_string)\n",
    "print(\"Command: {:06d}\".format(hash_value))\n"
   ]
  },
  {
   "cell_type": "markdown",
   "metadata": {},
   "source": [
    "Code in `C#`\n",
    "\n",
    "```cs\n",
    "using System;\n",
    "using System.Security.Cryptography;\n",
    "using System.Text;\n",
    "\n",
    "public class Program\n",
    "{\n",
    "    public static uint smethod_1(string string_0)\n",
    "    {\n",
    "        uint result;\n",
    "        using (SHA256Managed sha256Managed = new SHA256Managed())\n",
    "        {\n",
    "            // Compute the SHA-256 hash of the input string\n",
    "            byte[] hashBytes = sha256Managed.ComputeHash(Encoding.UTF8.GetBytes(string_0));\n",
    "\n",
    "            // Take the first 4 bytes (32 bits) of the hash and convert to a uint\n",
    "            uint hashValue = BitConverter.ToUInt32(hashBytes, 0);\n",
    "\n",
    "            // Calculate the 6-digit hash by taking modulo 1,000,000\n",
    "            result = hashValue % 1000000U;\n",
    "        }\n",
    "        return result;\n",
    "    }\n",
    "\n",
    "    public static void Main()\n",
    "    {\n",
    "        string inputString = \"command\";\n",
    "        uint hashValue = smethod_1(inputString);\n",
    "        Console.WriteLine(\"Hash: \" + hashValue.ToString(\"D6\")); // Display as a 6-digit integer\n",
    "    }\n",
    "}\n",
    "\n",
    "```"
   ]
  },
  {
   "cell_type": "code",
   "execution_count": 2,
   "metadata": {},
   "outputs": [
    {
     "name": "stdout",
     "output_type": "stream",
     "text": [
      "Second round of decoding: \n",
      "b'{\"H1\":\"http://77.246.107.91/@==AbhNnclZXauVlclZnclNXZulGT\",\"H2\":\"http://77.246.107.91/@==AbhNnclZXauVlclZnclNXZulGT\",\"T\":\"0\"}'\n"
     ]
    }
   ],
   "source": [
    "import base64,gzip\n",
    "\n",
    "#Create Dictionary obtained from previous decoding\n",
    "A1 = {\"SCRT\":{\"Q\":\")\",\"a\":\"_\",\"m\":\"(\",\"I\":\"^\",\"M\":\"`\",\"j\":\"$\",\"v\":\"#\",\"Y\":\" \",\"h\":\"@\",\"8\":\"!\",\"4\":\"|\",\"s\":\"&\",\"D\":\"~\",\"1\":\"*\",\"P\":\".\",\"N\":\"<\",\"W\":\"-\",\"y\":\">\",\"U\":\",\",\"3\":\";\",\"2\":\"%\"},\"PCRT\":{\"0\":\"%\",\"I\":\")\",\"G\":\",\",\"T\":\"&\",\"y\":\";\",\"R\":\"~\",\"l\":\"(\",\"j\":\"@\",\"X\":\"-\",\"p\":\"`\",\"x\":\"_\",\"S\":\".\",\"d\":\">\",\"U\":\"|\",\"e\":\" \",\"w\":\"#\",\"b\":\"!\",\"Y\":\"$\",\"=\":\"*\",\"9\":\"^\",\"M\":\"<\"}}\n",
    "\n",
    "#Store string from from encoding                                                                                  \n",
    "zip_encoded = \"H4sIAAAAAAAEABXMwQqCMBgA4FdRUpnixIuBuGQrNJGBkOKhw6/YOoykvIyNCJ89PX6X7xS/QYNspD+DB5e+MlgMdO48gqbBuJZ37wWlM97dUGSdgy5iaTsmv5zowuGu74zq8SUHWzb6VolPvV2wtlJLCEUxBUuJm+1RSzk5BvVBecX7q5JikGUYpSzm5uXwjHWjslaSb29m5/zIKhFTBEdoR6jz5x/oSq6sqAAAAA==\"\n",
    "unzip_decoded = str(gzip.decompress(base64.b64decode(zip_encoded)))\n",
    "# print(unzip_decoded)\n",
    "#Obtain the SCRT Dictionary\n",
    "dictionary = A1[\"SCRT\"]\n",
    "# print(dictionary)\n",
    "#Use the dictionary to perform a search/replace\n",
    "#Making sure to replace the Value with the Key\n",
    "# and not the other way around\n",
    "for i in dictionary:\n",
    "    unzip_decoded = unzip_decoded.replace(dictionary[i],i)\n",
    "\n",
    "# print(\"First round of Decoding: \\n\" + unzip_decoded + \"\\n\")\n",
    "\n",
    "#Reverse the string\n",
    "reverse_unzip_decoded = unzip_decoded[-1:0:-1]\n",
    "#base64 decode again\n",
    "decoded = base64.b64decode(reverse_unzip_decoded)\n",
    "#print the result\n",
    "print(\"Second round of decoding: \\n\" + str(decoded))\n"
   ]
  },
  {
   "cell_type": "code",
   "execution_count": null,
   "metadata": {},
   "outputs": [],
   "source": []
  }
 ],
 "metadata": {
  "kernelspec": {
   "display_name": "Python 3",
   "language": "python",
   "name": "python3"
  },
  "language_info": {
   "codemirror_mode": {
    "name": "ipython",
    "version": 3
   },
   "file_extension": ".py",
   "mimetype": "text/x-python",
   "name": "python",
   "nbconvert_exporter": "python",
   "pygments_lexer": "ipython3",
   "version": "3.8.10"
  },
  "orig_nbformat": 4
 },
 "nbformat": 4,
 "nbformat_minor": 2
}
