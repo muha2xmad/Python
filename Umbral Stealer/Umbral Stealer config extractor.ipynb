{
 "cells": [
  {
   "cell_type": "markdown",
   "id": "81f81be6",
   "metadata": {},
   "source": [
    "Config extractor of obfuscated umbral stealer samples and CLEANED (de4dot) samples  writen in DotNet. \n",
    "hashes: \n",
    "4ec777ca1708d332e9f7184507430caed00dfbc3f87334275ac0c0631ad007b7\n",
    "dc50156f82253ecf0d2cbcbfad5f5cec41c0d56dce7754dc920966cec548112c"
   ]
  },
  {
   "cell_type": "code",
   "execution_count": null,
   "id": "1b6a012a",
   "metadata": {},
   "outputs": [],
   "source": [
    "\n",
    "import clr  # Import pythonnet's Common Language Runtime interface\n",
    "file_path = \"path_to_your_exe\"  # Replace with the actual path to your .NET assembly\n",
    "clr.AddReference(\"dnlib\")  # Add reference to dnlib.dll (but this needs to point to a real path or GAC-loaded assembly)\n",
    "\n",
    "import dnlib  # Attempting to import dnlib as a Python module \n",
    "from System.Reflection import Assembly, BindingFlags, MethodInfo\n",
    "from dnlib.DotNet import ModuleDef, ModuleDefMD\n",
    "from dnlib.DotNet.Emit import OpCodes\n",
    "from dnlib.DotNet.Writer import ModuleWriterOptions\n",
    "from dnlib.DotNet import *  # Import everything from dnlib.DotNet namespace\n",
    "from dnlib.DotNet.Emit import OpCodes  # Import IL OpCodes used to analyze method instructions\n",
    "\n",
    "module = dnlib.DotNet.ModuleDefMD.Load(file_path)  # Load .NET assembly into dnlib\n"
   ]
  },
  {
   "cell_type": "code",
   "execution_count": null,
   "id": "380d5585",
   "metadata": {},
   "outputs": [],
   "source": [
    "import base64\n",
    "from cryptography.hazmat.primitives.ciphers.aead import AESGCM\n",
    "from base64 import b64decode\n",
    "\n",
    "def decrypt_data(encrypted_data, key, iv):\n",
    "    # Decode Base64 inputs\n",
    "    encrypted_bytes = b64decode(encrypted_data)\n",
    "    key_bytes = b64decode(key)\n",
    "    iv_bytes = b64decode(iv)\n",
    "\n",
    "    # Split into ciphertext and authentication tag\n",
    "    ciphertext = encrypted_bytes[:-16]\n",
    "    auth_tag = encrypted_bytes[-16:]\n",
    "\n",
    "    # Decrypt using AES-GCM\n",
    "    aesgcm = AESGCM(key_bytes)\n",
    "    plaintext = aesgcm.decrypt(iv_bytes, ciphertext + auth_tag, None)\n",
    "    return plaintext.decode('utf-8')\n"
   ]
  },
  {
   "cell_type": "code",
   "execution_count": null,
   "id": "3bb99178",
   "metadata": {},
   "outputs": [],
   "source": [
    "# This for obfuscated umbral stealer samples\n",
    "for type in module.GetTypes():\n",
    "    for method in type.Methods:\n",
    "        if not method.HasBody:\n",
    "            continue\n",
    "\n",
    "        instrs = method.Body.Instructions\n",
    "\n",
    "        for i in range (len(instrs)):\n",
    "            instr = instrs[i]\n",
    "            if instrs[i].OpCode == OpCodes.Stloc_3 and instrs[i-1].OpCode == OpCodes.Ldstr :\n",
    "                enc_mutex = instrs[i-1].Operand\n",
    "                enc_version = instrs[i-3].Operand\n",
    "                enc_webhook = instrs[i-4].Operand\n",
    "                enc_iv = instrs[i-6].Operand\n",
    "                enc_key = instrs[i-8].Operand\n",
    "\n",
    "\n",
    "webhook = decrypt_data(enc_webhook, enc_key, enc_iv)\n",
    "version = decrypt_data(enc_version, enc_key, enc_iv)\n",
    "mutex = decrypt_data(enc_mutex, enc_key, enc_iv)\n",
    "print(\"C2: \", webhook)\n",
    "print(\"Version: \", version)\n",
    "print(\"Mutex: \", mutex)\n",
    "\n",
    "            \n",
    "    "
   ]
  },
  {
   "cell_type": "code",
   "execution_count": null,
   "id": "ec2689af",
   "metadata": {},
   "outputs": [],
   "source": [
    "# This for cleaned umbral stealer samples\n",
    "for type in module.GetTypes():\n",
    "    for method in type.Methods:\n",
    "        if not method.HasBody:\n",
    "            continue\n",
    "\n",
    "        instrs = method.Body.Instructions\n",
    "\n",
    "        for i in range (len(instrs)):\n",
    "            instr = instrs[i]\n",
    "            if instr.OpCode == OpCodes.Call:\n",
    "                target = instr.Operand\n",
    "            # print(instr)\n",
    "                if instr.OpCode == OpCodes.Call or instr.OpCode == OpCodes.Callvirt:\n",
    "                    operand = instr.Operand\n",
    "                    # print(operand)\n",
    "                    if operand.Name == \"FromBase64String\":\n",
    "                        if instrs[i-1].OpCode == OpCodes.Stloc_3:\n",
    "                            enc_mutex = instrs[i-2].Operand\n",
    "                            enc_version = instrs[i-4].Operand\n",
    "                            enc_webhook = instrs[i-5].Operand\n",
    "                            enc_iv = instrs[i-7].Operand\n",
    "                            enc_key = instrs[i-9].Operand\n",
    "\n",
    "\n",
    "webhook = decrypt_data(enc_webhook, enc_key, enc_iv)\n",
    "version = decrypt_data(enc_version, enc_key, enc_iv)\n",
    "mutex = decrypt_data(enc_mutex, enc_key, enc_iv)\n",
    "print(\"C2: \", webhook)\n",
    "print(\"Version: \", version)\n",
    "print(\"Mutex: \", mutex)\n",
    "    "
   ]
  }
 ],
 "metadata": {
  "language_info": {
   "name": "python"
  }
 },
 "nbformat": 4,
 "nbformat_minor": 5
}
